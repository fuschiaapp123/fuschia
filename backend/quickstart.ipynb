{
 "cells": [
  {
   "cell_type": "code",
   "execution_count": 1,
   "metadata": {},
   "outputs": [],
   "source": [
    "import json\n",
    "import logging\n",
    "import os\n",
    "from datetime import datetime, timezone\n",
    "from logging import INFO\n",
    "\n",
    "from dotenv import load_dotenv\n",
    "\n",
    "from graphiti_core import Graphiti\n",
    "from graphiti_core.nodes import EpisodeType\n",
    "from graphiti_core.search.search_config_recipes import NODE_HYBRID_SEARCH_RRF"
   ]
  },
  {
   "cell_type": "code",
   "execution_count": 2,
   "metadata": {},
   "outputs": [],
   "source": [
    "# Configure logging\n",
    "logging.basicConfig(\n",
    "    level=INFO,\n",
    "    format='%(asctime)s - %(name)s - %(levelname)s - %(message)s',\n",
    "    datefmt='%Y-%m-%d %H:%M:%S',\n",
    ")\n",
    "logger = logging.getLogger(__name__)\n"
   ]
  },
  {
   "cell_type": "code",
   "execution_count": 3,
   "metadata": {},
   "outputs": [
    {
     "data": {
      "text/plain": [
       "True"
      ]
     },
     "execution_count": 3,
     "metadata": {},
     "output_type": "execute_result"
    }
   ],
   "source": [
    "load_dotenv()"
   ]
  },
  {
   "cell_type": "code",
   "execution_count": 4,
   "metadata": {},
   "outputs": [],
   "source": [
    "# Neo4j connection parameters\n",
    "# Make sure Neo4j Desktop is running with a local DBMS started\n",
    "neo4j_uri = os.environ.get('NEO4J_CONNECTION_URL')\n",
    "neo4j_user = os.environ.get('NEO4J_USER')\n",
    "neo4j_password = os.environ.get('NEO4J_PASSWORD')\n"
   ]
  },
  {
   "cell_type": "code",
   "execution_count": 5,
   "metadata": {},
   "outputs": [
    {
     "data": {
      "text/plain": [
       "'bolt://localhost:7687'"
      ]
     },
     "execution_count": 5,
     "metadata": {},
     "output_type": "execute_result"
    }
   ],
   "source": [
    "neo4j_uri"
   ]
  },
  {
   "cell_type": "code",
   "execution_count": 6,
   "metadata": {},
   "outputs": [],
   "source": [
    "if not neo4j_uri or not neo4j_user or not neo4j_password:\n",
    "    raise ValueError('NEO4J_URI, NEO4J_USER, and NEO4J_PASSWORD must be set')"
   ]
  },
  {
   "cell_type": "code",
   "execution_count": 7,
   "metadata": {},
   "outputs": [],
   "source": [
    "# Initialize Graphiti with Neo4j connection\n",
    "graphiti = Graphiti(neo4j_uri, neo4j_user, neo4j_password)"
   ]
  },
  {
   "cell_type": "code",
   "execution_count": 8,
   "metadata": {},
   "outputs": [
    {
     "name": "stderr",
     "output_type": "stream",
     "text": [
      "2025-09-13 23:21:10 - neo4j.notifications - INFO - Received notification from DBMS server: {severity: INFORMATION} {code: Neo.ClientNotification.Schema.IndexOrConstraintAlreadyExists} {category: SCHEMA} {title: `CREATE RANGE INDEX created_at_edge_index IF NOT EXISTS FOR ()-[e:RELATES_TO]-() ON (e.created_at)` has no effect.} {description: `RANGE INDEX created_at_edge_index FOR ()-[e:RELATES_TO]-() ON (e.created_at)` already exists.} {position: None} for query: 'CREATE INDEX created_at_edge_index IF NOT EXISTS FOR ()-[e:RELATES_TO]-() ON (e.created_at)'\n",
      "2025-09-13 23:21:10 - neo4j.notifications - INFO - Received notification from DBMS server: {severity: INFORMATION} {code: Neo.ClientNotification.Schema.IndexOrConstraintAlreadyExists} {category: SCHEMA} {title: `CREATE RANGE INDEX mention_group_id IF NOT EXISTS FOR ()-[e:MENTIONS]-() ON (e.group_id)` has no effect.} {description: `RANGE INDEX mention_group_id FOR ()-[e:MENTIONS]-() ON (e.group_id)` already exists.} {position: None} for query: 'CREATE INDEX mention_group_id IF NOT EXISTS FOR ()-[e:MENTIONS]-() ON (e.group_id)'\n",
      "2025-09-13 23:21:10 - neo4j.notifications - INFO - Received notification from DBMS server: {severity: INFORMATION} {code: Neo.ClientNotification.Schema.IndexOrConstraintAlreadyExists} {category: SCHEMA} {title: `CREATE RANGE INDEX name_edge_index IF NOT EXISTS FOR ()-[e:RELATES_TO]-() ON (e.name)` has no effect.} {description: `RANGE INDEX name_edge_index FOR ()-[e:RELATES_TO]-() ON (e.name)` already exists.} {position: None} for query: 'CREATE INDEX name_edge_index IF NOT EXISTS FOR ()-[e:RELATES_TO]-() ON (e.name)'\n",
      "2025-09-13 23:21:10 - neo4j.notifications - INFO - Received notification from DBMS server: {severity: INFORMATION} {code: Neo.ClientNotification.Schema.IndexOrConstraintAlreadyExists} {category: SCHEMA} {title: `CREATE RANGE INDEX expired_at_edge_index IF NOT EXISTS FOR ()-[e:RELATES_TO]-() ON (e.expired_at)` has no effect.} {description: `RANGE INDEX expired_at_edge_index FOR ()-[e:RELATES_TO]-() ON (e.expired_at)` already exists.} {position: None} for query: 'CREATE INDEX expired_at_edge_index IF NOT EXISTS FOR ()-[e:RELATES_TO]-() ON (e.expired_at)'\n",
      "2025-09-13 23:21:10 - neo4j.notifications - INFO - Received notification from DBMS server: {severity: INFORMATION} {code: Neo.ClientNotification.Schema.IndexOrConstraintAlreadyExists} {category: SCHEMA} {title: `CREATE RANGE INDEX has_member_uuid IF NOT EXISTS FOR ()-[e:HAS_MEMBER]-() ON (e.uuid)` has no effect.} {description: `RANGE INDEX has_member_uuid FOR ()-[e:HAS_MEMBER]-() ON (e.uuid)` already exists.} {position: None} for query: 'CREATE INDEX has_member_uuid IF NOT EXISTS FOR ()-[e:HAS_MEMBER]-() ON (e.uuid)'\n",
      "2025-09-13 23:21:10 - neo4j.notifications - INFO - Received notification from DBMS server: {severity: INFORMATION} {code: Neo.ClientNotification.Schema.IndexOrConstraintAlreadyExists} {category: SCHEMA} {title: `CREATE RANGE INDEX relation_group_id IF NOT EXISTS FOR ()-[e:RELATES_TO]-() ON (e.group_id)` has no effect.} {description: `RANGE INDEX relation_group_id FOR ()-[e:RELATES_TO]-() ON (e.group_id)` already exists.} {position: None} for query: 'CREATE INDEX relation_group_id IF NOT EXISTS FOR ()-[e:RELATES_TO]-() ON (e.group_id)'\n",
      "2025-09-13 23:21:10 - neo4j.notifications - INFO - Received notification from DBMS server: {severity: INFORMATION} {code: Neo.ClientNotification.Schema.IndexOrConstraintAlreadyExists} {category: SCHEMA} {title: `CREATE RANGE INDEX entity_group_id IF NOT EXISTS FOR (e:Entity) ON (e.group_id)` has no effect.} {description: `RANGE INDEX entity_group_id FOR (e:Entity) ON (e.group_id)` already exists.} {position: None} for query: 'CREATE INDEX entity_group_id IF NOT EXISTS FOR (n:Entity) ON (n.group_id)'\n",
      "2025-09-13 23:21:10 - neo4j.notifications - INFO - Received notification from DBMS server: {severity: INFORMATION} {code: Neo.ClientNotification.Schema.IndexOrConstraintAlreadyExists} {category: SCHEMA} {title: `CREATE RANGE INDEX relation_uuid IF NOT EXISTS FOR ()-[e:RELATES_TO]-() ON (e.uuid)` has no effect.} {description: `RANGE INDEX relation_uuid FOR ()-[e:RELATES_TO]-() ON (e.uuid)` already exists.} {position: None} for query: 'CREATE INDEX relation_uuid IF NOT EXISTS FOR ()-[e:RELATES_TO]-() ON (e.uuid)'\n",
      "2025-09-13 23:21:10 - neo4j.notifications - INFO - Received notification from DBMS server: {severity: INFORMATION} {code: Neo.ClientNotification.Schema.IndexOrConstraintAlreadyExists} {category: SCHEMA} {title: `CREATE RANGE INDEX valid_at_edge_index IF NOT EXISTS FOR ()-[e:RELATES_TO]-() ON (e.valid_at)` has no effect.} {description: `RANGE INDEX valid_at_edge_index FOR ()-[e:RELATES_TO]-() ON (e.valid_at)` already exists.} {position: None} for query: 'CREATE INDEX valid_at_edge_index IF NOT EXISTS FOR ()-[e:RELATES_TO]-() ON (e.valid_at)'\n",
      "2025-09-13 23:21:10 - neo4j.notifications - INFO - Received notification from DBMS server: {severity: INFORMATION} {code: Neo.ClientNotification.Schema.IndexOrConstraintAlreadyExists} {category: SCHEMA} {title: `CREATE RANGE INDEX invalid_at_edge_index IF NOT EXISTS FOR ()-[e:RELATES_TO]-() ON (e.invalid_at)` has no effect.} {description: `RANGE INDEX invalid_at_edge_index FOR ()-[e:RELATES_TO]-() ON (e.invalid_at)` already exists.} {position: None} for query: 'CREATE INDEX invalid_at_edge_index IF NOT EXISTS FOR ()-[e:RELATES_TO]-() ON (e.invalid_at)'\n",
      "2025-09-13 23:21:10 - neo4j.notifications - INFO - Received notification from DBMS server: {severity: INFORMATION} {code: Neo.ClientNotification.Schema.IndexOrConstraintAlreadyExists} {category: SCHEMA} {title: `CREATE RANGE INDEX episode_uuid IF NOT EXISTS FOR (e:Episodic) ON (e.uuid)` has no effect.} {description: `RANGE INDEX episode_uuid FOR (e:Episodic) ON (e.uuid)` already exists.} {position: None} for query: 'CREATE INDEX episode_uuid IF NOT EXISTS FOR (n:Episodic) ON (n.uuid)'\n",
      "2025-09-13 23:21:10 - neo4j.notifications - INFO - Received notification from DBMS server: {severity: INFORMATION} {code: Neo.ClientNotification.Schema.IndexOrConstraintAlreadyExists} {category: SCHEMA} {title: `CREATE RANGE INDEX created_at_entity_index IF NOT EXISTS FOR (e:Entity) ON (e.created_at)` has no effect.} {description: `RANGE INDEX created_at_entity_index FOR (e:Entity) ON (e.created_at)` already exists.} {position: None} for query: 'CREATE INDEX created_at_entity_index IF NOT EXISTS FOR (n:Entity) ON (n.created_at)'\n",
      "2025-09-13 23:21:10 - neo4j.notifications - INFO - Received notification from DBMS server: {severity: INFORMATION} {code: Neo.ClientNotification.Schema.IndexOrConstraintAlreadyExists} {category: SCHEMA} {title: `CREATE RANGE INDEX community_uuid IF NOT EXISTS FOR (e:Community) ON (e.uuid)` has no effect.} {description: `RANGE INDEX community_uuid FOR (e:Community) ON (e.uuid)` already exists.} {position: None} for query: 'CREATE INDEX community_uuid IF NOT EXISTS FOR (n:Community) ON (n.uuid)'\n",
      "2025-09-13 23:21:10 - neo4j.notifications - INFO - Received notification from DBMS server: {severity: INFORMATION} {code: Neo.ClientNotification.Schema.IndexOrConstraintAlreadyExists} {category: SCHEMA} {title: `CREATE RANGE INDEX episode_group_id IF NOT EXISTS FOR (e:Episodic) ON (e.group_id)` has no effect.} {description: `RANGE INDEX episode_group_id FOR (e:Episodic) ON (e.group_id)` already exists.} {position: None} for query: 'CREATE INDEX episode_group_id IF NOT EXISTS FOR (n:Episodic) ON (n.group_id)'\n",
      "2025-09-13 23:21:10 - neo4j.notifications - INFO - Received notification from DBMS server: {severity: INFORMATION} {code: Neo.ClientNotification.Schema.IndexOrConstraintAlreadyExists} {category: SCHEMA} {title: `CREATE RANGE INDEX created_at_episodic_index IF NOT EXISTS FOR (e:Episodic) ON (e.created_at)` has no effect.} {description: `RANGE INDEX created_at_episodic_index FOR (e:Episodic) ON (e.created_at)` already exists.} {position: None} for query: 'CREATE INDEX created_at_episodic_index IF NOT EXISTS FOR (n:Episodic) ON (n.created_at)'\n",
      "2025-09-13 23:21:10 - neo4j.notifications - INFO - Received notification from DBMS server: {severity: INFORMATION} {code: Neo.ClientNotification.Schema.IndexOrConstraintAlreadyExists} {category: SCHEMA} {title: `CREATE FULLTEXT INDEX episode_content IF NOT EXISTS FOR (e:Episodic) ON EACH [e.content, e.source, e.source_description, e.group_id]` has no effect.} {description: `FULLTEXT INDEX episode_content FOR (e:Episodic) ON EACH [e.content, e.source, e.source_description, e.group_id]` already exists.} {position: None} for query: 'CREATE FULLTEXT INDEX episode_content IF NOT EXISTS \\n        FOR (e:Episodic) ON EACH [e.content, e.source, e.source_description, e.group_id]'\n",
      "2025-09-13 23:21:10 - neo4j.notifications - INFO - Received notification from DBMS server: {severity: INFORMATION} {code: Neo.ClientNotification.Schema.IndexOrConstraintAlreadyExists} {category: SCHEMA} {title: `CREATE RANGE INDEX name_entity_index IF NOT EXISTS FOR (e:Entity) ON (e.name)` has no effect.} {description: `RANGE INDEX name_entity_index FOR (e:Entity) ON (e.name)` already exists.} {position: None} for query: 'CREATE INDEX name_entity_index IF NOT EXISTS FOR (n:Entity) ON (n.name)'\n",
      "2025-09-13 23:21:10 - neo4j.notifications - INFO - Received notification from DBMS server: {severity: INFORMATION} {code: Neo.ClientNotification.Schema.IndexOrConstraintAlreadyExists} {category: SCHEMA} {title: `CREATE RANGE INDEX entity_uuid IF NOT EXISTS FOR (e:Entity) ON (e.uuid)` has no effect.} {description: `RANGE INDEX entity_uuid FOR (e:Entity) ON (e.uuid)` already exists.} {position: None} for query: 'CREATE INDEX entity_uuid IF NOT EXISTS FOR (n:Entity) ON (n.uuid)'\n",
      "2025-09-13 23:21:10 - neo4j.notifications - INFO - Received notification from DBMS server: {severity: INFORMATION} {code: Neo.ClientNotification.Schema.IndexOrConstraintAlreadyExists} {category: SCHEMA} {title: `CREATE RANGE INDEX valid_at_episodic_index IF NOT EXISTS FOR (e:Episodic) ON (e.valid_at)` has no effect.} {description: `RANGE INDEX valid_at_episodic_index FOR (e:Episodic) ON (e.valid_at)` already exists.} {position: None} for query: 'CREATE INDEX valid_at_episodic_index IF NOT EXISTS FOR (n:Episodic) ON (n.valid_at)'\n",
      "2025-09-13 23:21:10 - neo4j.notifications - INFO - Received notification from DBMS server: {severity: INFORMATION} {code: Neo.ClientNotification.Schema.IndexOrConstraintAlreadyExists} {category: SCHEMA} {title: `CREATE RANGE INDEX mention_uuid IF NOT EXISTS FOR ()-[e:MENTIONS]-() ON (e.uuid)` has no effect.} {description: `RANGE INDEX mention_uuid FOR ()-[e:MENTIONS]-() ON (e.uuid)` already exists.} {position: None} for query: 'CREATE INDEX mention_uuid IF NOT EXISTS FOR ()-[e:MENTIONS]-() ON (e.uuid)'\n",
      "2025-09-13 23:21:10 - neo4j.notifications - INFO - Received notification from DBMS server: {severity: INFORMATION} {code: Neo.ClientNotification.Schema.IndexOrConstraintAlreadyExists} {category: SCHEMA} {title: `CREATE FULLTEXT INDEX community_name IF NOT EXISTS FOR (e:Community) ON EACH [e.name, e.group_id]` has no effect.} {description: `FULLTEXT INDEX community_name FOR (e:Community) ON EACH [e.name, e.group_id]` already exists.} {position: None} for query: 'CREATE FULLTEXT INDEX community_name IF NOT EXISTS \\n        FOR (n:Community) ON EACH [n.name, n.group_id]'\n",
      "2025-09-13 23:21:10 - neo4j.notifications - INFO - Received notification from DBMS server: {severity: INFORMATION} {code: Neo.ClientNotification.Schema.IndexOrConstraintAlreadyExists} {category: SCHEMA} {title: `CREATE FULLTEXT INDEX node_name_and_summary IF NOT EXISTS FOR (e:Entity) ON EACH [e.name, e.summary, e.group_id]` has no effect.} {description: `FULLTEXT INDEX node_name_and_summary FOR (e:Entity) ON EACH [e.name, e.summary, e.group_id]` already exists.} {position: None} for query: 'CREATE FULLTEXT INDEX node_name_and_summary IF NOT EXISTS \\n        FOR (n:Entity) ON EACH [n.name, n.summary, n.group_id]'\n",
      "2025-09-13 23:21:10 - neo4j.notifications - INFO - Received notification from DBMS server: {severity: INFORMATION} {code: Neo.ClientNotification.Schema.IndexOrConstraintAlreadyExists} {category: SCHEMA} {title: `CREATE FULLTEXT INDEX edge_name_and_fact IF NOT EXISTS FOR ()-[e:RELATES_TO]-() ON EACH [e.name, e.fact, e.group_id]` has no effect.} {description: `FULLTEXT INDEX edge_name_and_fact FOR ()-[e:RELATES_TO]-() ON EACH [e.name, e.fact, e.group_id]` already exists.} {position: None} for query: 'CREATE FULLTEXT INDEX edge_name_and_fact IF NOT EXISTS \\n        FOR ()-[e:RELATES_TO]-() ON EACH [e.name, e.fact, e.group_id]'\n"
     ]
    }
   ],
   "source": [
    "# Initialize the graph database with graphiti's indices. This only needs to be done once.\n",
    "await graphiti.build_indices_and_constraints()"
   ]
  },
  {
   "cell_type": "code",
   "execution_count": 9,
   "metadata": {},
   "outputs": [],
   "source": [
    "# Example: Add Episodes\n",
    "# Episodes list containing both text and JSON episodes\n",
    "episodes = [\n",
    "    {\n",
    "        'content': 'Kamala Harris is the Attorney General of California. She was previously '\n",
    "        'the district attorney for San Francisco.',\n",
    "        'type': EpisodeType.text,\n",
    "        'description': 'podcast transcript',\n",
    "    },\n",
    "    {\n",
    "        'content': 'As AG, Harris was in office from January 3, 2011 – January 3, 2017',\n",
    "        'type': EpisodeType.text,\n",
    "        'description': 'podcast transcript',\n",
    "    },\n",
    "    {\n",
    "        'content': {\n",
    "            'name': 'Gavin Newsom',\n",
    "            'position': 'Governor',\n",
    "            'state': 'California',\n",
    "            'previous_role': 'Lieutenant Governor',\n",
    "            'previous_location': 'San Francisco',\n",
    "        },\n",
    "        'type': EpisodeType.json,\n",
    "        'description': 'podcast metadata',\n",
    "    },\n",
    "    {\n",
    "        'content': {\n",
    "            'name': 'Gavin Newsom',\n",
    "            'position': 'Governor',\n",
    "            'term_start': 'January 7, 2019',\n",
    "            'term_end': 'Present',\n",
    "        },\n",
    "        'type': EpisodeType.json,\n",
    "        'description': 'podcast metadata',\n",
    "    },\n",
    "]\n"
   ]
  },
  {
   "cell_type": "code",
   "execution_count": 10,
   "metadata": {},
   "outputs": [
    {
     "name": "stderr",
     "output_type": "stream",
     "text": [
      "2025-09-13 23:21:15 - httpx - INFO - HTTP Request: POST https://api.openai.com/v1/chat/completions \"HTTP/1.1 200 OK\"\n",
      "2025-09-13 23:21:16 - httpx - INFO - HTTP Request: POST https://api.openai.com/v1/embeddings \"HTTP/1.1 200 OK\"\n",
      "2025-09-13 23:21:16 - neo4j.notifications - WARNING - Received notification from DBMS server: {severity: WARNING} {code: Neo.ClientNotification.Statement.UnknownPropertyKeyWarning} {category: UNRECOGNIZED} {title: The provided property key is not in the database} {description: One of the property names in your query is not available in the database, make sure you didn't misspell it or that the label is available when you run this statement in your application (the missing property name is: name_embedding)} {position: line: 4, column: 48, offset: 120} for query: '\\n            MATCH (n:Entity)\\n            WHERE n.group_id IN $group_ids\\n            WITH n, vector.similarity.cosine(n.name_embedding, $search_vector) AS score\\n            WHERE score > $min_score\\n        RETURN\\n            n.uuid As uuid, \\n            n.name AS name,\\n            n.group_id AS group_id,\\n            n.created_at AS created_at, \\n            n.summary AS summary,\\n            labels(n) AS labels,\\n            properties(n) AS attributes\\n            \\n        ORDER BY score DESC\\n        LIMIT $limit\\n        '\n",
      "2025-09-13 23:21:16 - httpx - INFO - HTTP Request: POST https://api.openai.com/v1/embeddings \"HTTP/1.1 200 OK\"\n",
      "2025-09-13 23:21:16 - neo4j.notifications - WARNING - Received notification from DBMS server: {severity: WARNING} {code: Neo.ClientNotification.Statement.UnknownPropertyKeyWarning} {category: UNRECOGNIZED} {title: The provided property key is not in the database} {description: One of the property names in your query is not available in the database, make sure you didn't misspell it or that the label is available when you run this statement in your application (the missing property name is: name_embedding)} {position: line: 4, column: 48, offset: 120} for query: '\\n            MATCH (n:Entity)\\n            WHERE n.group_id IN $group_ids\\n            WITH n, vector.similarity.cosine(n.name_embedding, $search_vector) AS score\\n            WHERE score > $min_score\\n        RETURN\\n            n.uuid As uuid, \\n            n.name AS name,\\n            n.group_id AS group_id,\\n            n.created_at AS created_at, \\n            n.summary AS summary,\\n            labels(n) AS labels,\\n            properties(n) AS attributes\\n            \\n        ORDER BY score DESC\\n        LIMIT $limit\\n        '\n",
      "2025-09-13 23:21:17 - httpx - INFO - HTTP Request: POST https://api.openai.com/v1/embeddings \"HTTP/1.1 200 OK\"\n",
      "2025-09-13 23:21:18 - neo4j.notifications - WARNING - Received notification from DBMS server: {severity: WARNING} {code: Neo.ClientNotification.Statement.UnknownPropertyKeyWarning} {category: UNRECOGNIZED} {title: The provided property key is not in the database} {description: One of the property names in your query is not available in the database, make sure you didn't misspell it or that the label is available when you run this statement in your application (the missing property name is: name_embedding)} {position: line: 4, column: 48, offset: 120} for query: '\\n            MATCH (n:Entity)\\n            WHERE n.group_id IN $group_ids\\n            WITH n, vector.similarity.cosine(n.name_embedding, $search_vector) AS score\\n            WHERE score > $min_score\\n        RETURN\\n            n.uuid As uuid, \\n            n.name AS name,\\n            n.group_id AS group_id,\\n            n.created_at AS created_at, \\n            n.summary AS summary,\\n            labels(n) AS labels,\\n            properties(n) AS attributes\\n            \\n        ORDER BY score DESC\\n        LIMIT $limit\\n        '\n",
      "2025-09-13 23:21:18 - httpx - INFO - HTTP Request: POST https://api.openai.com/v1/chat/completions \"HTTP/1.1 200 OK\"\n",
      "2025-09-13 23:21:21 - httpx - INFO - HTTP Request: POST https://api.openai.com/v1/chat/completions \"HTTP/1.1 200 OK\"\n",
      "2025-09-13 23:21:22 - httpx - INFO - HTTP Request: POST https://api.openai.com/v1/chat/completions \"HTTP/1.1 200 OK\"\n",
      "2025-09-13 23:21:22 - httpx - INFO - HTTP Request: POST https://api.openai.com/v1/embeddings \"HTTP/1.1 200 OK\"\n",
      "2025-09-13 23:21:22 - neo4j.notifications - WARNING - Received notification from DBMS server: {severity: WARNING} {code: Neo.ClientNotification.Statement.UnknownPropertyKeyWarning} {category: UNRECOGNIZED} {title: The provided property key is not in the database} {description: One of the property names in your query is not available in the database, make sure you didn't misspell it or that the label is available when you run this statement in your application (the missing property name is: fact_embedding)} {position: line: 4, column: 54, offset: 221} for query: 'UNWIND $edges AS edge\\n    MATCH (n:Entity {uuid: edge.source_node_uuid})-[e:RELATES_TO {group_id: edge.group_id}]-(m:Entity {uuid: edge.target_node_uuid})\\n            \\n            WITH e, edge, vector.similarity.cosine(e.fact_embedding, edge.fact_embedding) AS score\\n            WHERE score > $min_score\\n            WITH edge, e, score\\n            ORDER BY score DESC\\n            RETURN edge.uuid AS search_edge_uuid,\\n                collect({\\n                    uuid: e.uuid,\\n                    source_node_uuid: startNode(e).uuid,\\n                    target_node_uuid: endNode(e).uuid,\\n                    created_at: e.created_at,\\n                    name: e.name,\\n                    group_id: e.group_id,\\n                    fact: e.fact,\\n                    fact_embedding: e.fact_embedding,\\n                    episodes: e.episodes,\\n                    expired_at: e.expired_at,\\n                    valid_at: e.valid_at,\\n                    invalid_at: e.invalid_at\\n                })[..$limit] AS matches\\n        '\n",
      "2025-09-13 23:21:22 - neo4j.notifications - WARNING - Received notification from DBMS server: {severity: WARNING} {code: Neo.ClientNotification.Statement.UnknownPropertyKeyWarning} {category: UNRECOGNIZED} {title: The provided property key is not in the database} {description: One of the property names in your query is not available in the database, make sure you didn't misspell it or that the label is available when you run this statement in your application (the missing property name is: fact_embedding)} {position: line: 17, column: 39, offset: 784} for query: 'UNWIND $edges AS edge\\n    MATCH (n:Entity {uuid: edge.source_node_uuid})-[e:RELATES_TO {group_id: edge.group_id}]-(m:Entity {uuid: edge.target_node_uuid})\\n            \\n            WITH e, edge, vector.similarity.cosine(e.fact_embedding, edge.fact_embedding) AS score\\n            WHERE score > $min_score\\n            WITH edge, e, score\\n            ORDER BY score DESC\\n            RETURN edge.uuid AS search_edge_uuid,\\n                collect({\\n                    uuid: e.uuid,\\n                    source_node_uuid: startNode(e).uuid,\\n                    target_node_uuid: endNode(e).uuid,\\n                    created_at: e.created_at,\\n                    name: e.name,\\n                    group_id: e.group_id,\\n                    fact: e.fact,\\n                    fact_embedding: e.fact_embedding,\\n                    episodes: e.episodes,\\n                    expired_at: e.expired_at,\\n                    valid_at: e.valid_at,\\n                    invalid_at: e.invalid_at\\n                })[..$limit] AS matches\\n        '\n",
      "2025-09-13 23:21:22 - neo4j.notifications - WARNING - Received notification from DBMS server: {severity: WARNING} {code: Neo.ClientNotification.Statement.UnknownPropertyKeyWarning} {category: UNRECOGNIZED} {title: The provided property key is not in the database} {description: One of the property names in your query is not available in the database, make sure you didn't misspell it or that the label is available when you run this statement in your application (the missing property name is: episodes)} {position: line: 18, column: 33, offset: 832} for query: 'UNWIND $edges AS edge\\n    MATCH (n:Entity {uuid: edge.source_node_uuid})-[e:RELATES_TO {group_id: edge.group_id}]-(m:Entity {uuid: edge.target_node_uuid})\\n            \\n            WITH e, edge, vector.similarity.cosine(e.fact_embedding, edge.fact_embedding) AS score\\n            WHERE score > $min_score\\n            WITH edge, e, score\\n            ORDER BY score DESC\\n            RETURN edge.uuid AS search_edge_uuid,\\n                collect({\\n                    uuid: e.uuid,\\n                    source_node_uuid: startNode(e).uuid,\\n                    target_node_uuid: endNode(e).uuid,\\n                    created_at: e.created_at,\\n                    name: e.name,\\n                    group_id: e.group_id,\\n                    fact: e.fact,\\n                    fact_embedding: e.fact_embedding,\\n                    episodes: e.episodes,\\n                    expired_at: e.expired_at,\\n                    valid_at: e.valid_at,\\n                    invalid_at: e.invalid_at\\n                })[..$limit] AS matches\\n        '\n",
      "2025-09-13 23:21:22 - neo4j.notifications - WARNING - Received notification from DBMS server: {severity: WARNING} {code: Neo.ClientNotification.Statement.UnknownPropertyKeyWarning} {category: UNRECOGNIZED} {title: The provided property key is not in the database} {description: One of the property names in your query is not available in the database, make sure you didn't misspell it or that the label is available when you run this statement in your application (the missing property name is: fact_embedding)} {position: line: 5, column: 54, offset: 289} for query: 'UNWIND $edges AS edge\\n    MATCH (n:Entity)-[e:RELATES_TO {group_id: edge.group_id}]->(m:Entity)\\n    WHERE n.uuid IN [edge.source_node_uuid, edge.target_node_uuid] OR m.uuid IN [edge.target_node_uuid, edge.source_node_uuid]\\n            \\n            WITH edge, e, vector.similarity.cosine(e.fact_embedding, edge.fact_embedding) AS score\\n            WHERE score > $min_score\\n            WITH edge, e, score\\n            ORDER BY score DESC\\n            RETURN edge.uuid AS search_edge_uuid,\\n                collect({\\n                    uuid: e.uuid,\\n                    source_node_uuid: startNode(e).uuid,\\n                    target_node_uuid: endNode(e).uuid,\\n                    created_at: e.created_at,\\n                    name: e.name,\\n                    group_id: e.group_id,\\n                    fact: e.fact,\\n                    fact_embedding: e.fact_embedding,\\n                    episodes: e.episodes,\\n                    expired_at: e.expired_at,\\n                    valid_at: e.valid_at,\\n                    invalid_at: e.invalid_at\\n                })[..$limit] AS matches\\n        '\n",
      "2025-09-13 23:21:22 - neo4j.notifications - WARNING - Received notification from DBMS server: {severity: WARNING} {code: Neo.ClientNotification.Statement.UnknownPropertyKeyWarning} {category: UNRECOGNIZED} {title: The provided property key is not in the database} {description: One of the property names in your query is not available in the database, make sure you didn't misspell it or that the label is available when you run this statement in your application (the missing property name is: fact_embedding)} {position: line: 18, column: 39, offset: 852} for query: 'UNWIND $edges AS edge\\n    MATCH (n:Entity)-[e:RELATES_TO {group_id: edge.group_id}]->(m:Entity)\\n    WHERE n.uuid IN [edge.source_node_uuid, edge.target_node_uuid] OR m.uuid IN [edge.target_node_uuid, edge.source_node_uuid]\\n            \\n            WITH edge, e, vector.similarity.cosine(e.fact_embedding, edge.fact_embedding) AS score\\n            WHERE score > $min_score\\n            WITH edge, e, score\\n            ORDER BY score DESC\\n            RETURN edge.uuid AS search_edge_uuid,\\n                collect({\\n                    uuid: e.uuid,\\n                    source_node_uuid: startNode(e).uuid,\\n                    target_node_uuid: endNode(e).uuid,\\n                    created_at: e.created_at,\\n                    name: e.name,\\n                    group_id: e.group_id,\\n                    fact: e.fact,\\n                    fact_embedding: e.fact_embedding,\\n                    episodes: e.episodes,\\n                    expired_at: e.expired_at,\\n                    valid_at: e.valid_at,\\n                    invalid_at: e.invalid_at\\n                })[..$limit] AS matches\\n        '\n",
      "2025-09-13 23:21:22 - neo4j.notifications - WARNING - Received notification from DBMS server: {severity: WARNING} {code: Neo.ClientNotification.Statement.UnknownPropertyKeyWarning} {category: UNRECOGNIZED} {title: The provided property key is not in the database} {description: One of the property names in your query is not available in the database, make sure you didn't misspell it or that the label is available when you run this statement in your application (the missing property name is: episodes)} {position: line: 19, column: 33, offset: 900} for query: 'UNWIND $edges AS edge\\n    MATCH (n:Entity)-[e:RELATES_TO {group_id: edge.group_id}]->(m:Entity)\\n    WHERE n.uuid IN [edge.source_node_uuid, edge.target_node_uuid] OR m.uuid IN [edge.target_node_uuid, edge.source_node_uuid]\\n            \\n            WITH edge, e, vector.similarity.cosine(e.fact_embedding, edge.fact_embedding) AS score\\n            WHERE score > $min_score\\n            WITH edge, e, score\\n            ORDER BY score DESC\\n            RETURN edge.uuid AS search_edge_uuid,\\n                collect({\\n                    uuid: e.uuid,\\n                    source_node_uuid: startNode(e).uuid,\\n                    target_node_uuid: endNode(e).uuid,\\n                    created_at: e.created_at,\\n                    name: e.name,\\n                    group_id: e.group_id,\\n                    fact: e.fact,\\n                    fact_embedding: e.fact_embedding,\\n                    episodes: e.episodes,\\n                    expired_at: e.expired_at,\\n                    valid_at: e.valid_at,\\n                    invalid_at: e.invalid_at\\n                })[..$limit] AS matches\\n        '\n",
      "2025-09-13 23:21:22 - httpx - INFO - HTTP Request: POST https://api.openai.com/v1/chat/completions \"HTTP/1.1 200 OK\"\n",
      "2025-09-13 23:21:22 - httpx - INFO - HTTP Request: POST https://api.openai.com/v1/embeddings \"HTTP/1.1 200 OK\"\n",
      "2025-09-13 23:21:24 - httpx - INFO - HTTP Request: POST https://api.openai.com/v1/chat/completions \"HTTP/1.1 200 OK\"\n",
      "2025-09-13 23:21:25 - httpx - INFO - HTTP Request: POST https://api.openai.com/v1/embeddings \"HTTP/1.1 200 OK\"\n"
     ]
    },
    {
     "ename": "CypherSyntaxError",
     "evalue": "{code: Neo.ClientError.Statement.SyntaxError} {message: Setting labels or properties dynamically is not supported. (line 4, column 9 (offset: 74))\n\"    SET n:$(node.labels)\"\n         ^}",
     "output_type": "error",
     "traceback": [
      "\u001b[0;31m---------------------------------------------------------------------------\u001b[0m",
      "\u001b[0;31mCypherSyntaxError\u001b[0m                         Traceback (most recent call last)",
      "Cell \u001b[0;32mIn[10], line 2\u001b[0m\n\u001b[1;32m      1\u001b[0m \u001b[38;5;28;01mfor\u001b[39;00m i, episode \u001b[38;5;129;01min\u001b[39;00m \u001b[38;5;28menumerate\u001b[39m(episodes):\n\u001b[0;32m----> 2\u001b[0m     \u001b[38;5;28;01mawait\u001b[39;00m graphiti\u001b[38;5;241m.\u001b[39madd_episode(\n\u001b[1;32m      3\u001b[0m         name\u001b[38;5;241m=\u001b[39m\u001b[38;5;124mf\u001b[39m\u001b[38;5;124m'\u001b[39m\u001b[38;5;124mFreakonomics Radio \u001b[39m\u001b[38;5;132;01m{\u001b[39;00mi\u001b[38;5;132;01m}\u001b[39;00m\u001b[38;5;124m'\u001b[39m,\n\u001b[1;32m      4\u001b[0m         episode_body\u001b[38;5;241m=\u001b[39mepisode[\u001b[38;5;124m'\u001b[39m\u001b[38;5;124mcontent\u001b[39m\u001b[38;5;124m'\u001b[39m]\n\u001b[1;32m      5\u001b[0m         \u001b[38;5;28;01mif\u001b[39;00m \u001b[38;5;28misinstance\u001b[39m(episode[\u001b[38;5;124m'\u001b[39m\u001b[38;5;124mcontent\u001b[39m\u001b[38;5;124m'\u001b[39m], \u001b[38;5;28mstr\u001b[39m)\n\u001b[1;32m      6\u001b[0m         \u001b[38;5;28;01melse\u001b[39;00m json\u001b[38;5;241m.\u001b[39mdumps(episode[\u001b[38;5;124m'\u001b[39m\u001b[38;5;124mcontent\u001b[39m\u001b[38;5;124m'\u001b[39m]),\n\u001b[1;32m      7\u001b[0m         source\u001b[38;5;241m=\u001b[39mepisode[\u001b[38;5;124m'\u001b[39m\u001b[38;5;124mtype\u001b[39m\u001b[38;5;124m'\u001b[39m],\n\u001b[1;32m      8\u001b[0m         source_description\u001b[38;5;241m=\u001b[39mepisode[\u001b[38;5;124m'\u001b[39m\u001b[38;5;124mdescription\u001b[39m\u001b[38;5;124m'\u001b[39m],\n\u001b[1;32m      9\u001b[0m         reference_time\u001b[38;5;241m=\u001b[39mdatetime\u001b[38;5;241m.\u001b[39mnow(timezone\u001b[38;5;241m.\u001b[39mutc),\n\u001b[1;32m     10\u001b[0m     )\n\u001b[1;32m     11\u001b[0m     \u001b[38;5;28mprint\u001b[39m(\u001b[38;5;124mf\u001b[39m\u001b[38;5;124m'\u001b[39m\u001b[38;5;124mAdded episode: Freakonomics Radio \u001b[39m\u001b[38;5;132;01m{\u001b[39;00mi\u001b[38;5;132;01m}\u001b[39;00m\u001b[38;5;124m (\u001b[39m\u001b[38;5;132;01m{\u001b[39;00mepisode[\u001b[38;5;124m\"\u001b[39m\u001b[38;5;124mtype\u001b[39m\u001b[38;5;124m\"\u001b[39m]\u001b[38;5;241m.\u001b[39mvalue\u001b[38;5;132;01m}\u001b[39;00m\u001b[38;5;124m)\u001b[39m\u001b[38;5;124m'\u001b[39m)\n",
      "File \u001b[0;32m/opt/anaconda3/lib/python3.12/site-packages/graphiti_core/graphiti.py:416\u001b[0m, in \u001b[0;36mGraphiti.add_episode\u001b[0;34m(self, name, episode_body, source_description, reference_time, source, group_id, uuid, update_communities, entity_types, previous_episode_uuids)\u001b[0m\n\u001b[1;32m    413\u001b[0m     \u001b[38;5;28;01mreturn\u001b[39;00m AddEpisodeResults(episode\u001b[38;5;241m=\u001b[39mepisode, nodes\u001b[38;5;241m=\u001b[39mnodes, edges\u001b[38;5;241m=\u001b[39mentity_edges)\n\u001b[1;32m    415\u001b[0m \u001b[38;5;28;01mexcept\u001b[39;00m \u001b[38;5;167;01mException\u001b[39;00m \u001b[38;5;28;01mas\u001b[39;00m e:\n\u001b[0;32m--> 416\u001b[0m     \u001b[38;5;28;01mraise\u001b[39;00m e\n",
      "File \u001b[0;32m/opt/anaconda3/lib/python3.12/site-packages/graphiti_core/graphiti.py:398\u001b[0m, in \u001b[0;36mGraphiti.add_episode\u001b[0;34m(self, name, episode_body, source_description, reference_time, source, group_id, uuid, update_communities, entity_types, previous_episode_uuids)\u001b[0m\n\u001b[1;32m    395\u001b[0m \u001b[38;5;28;01mif\u001b[39;00m \u001b[38;5;129;01mnot\u001b[39;00m \u001b[38;5;28mself\u001b[39m\u001b[38;5;241m.\u001b[39mstore_raw_episode_content:\n\u001b[1;32m    396\u001b[0m     episode\u001b[38;5;241m.\u001b[39mcontent \u001b[38;5;241m=\u001b[39m \u001b[38;5;124m'\u001b[39m\u001b[38;5;124m'\u001b[39m\n\u001b[0;32m--> 398\u001b[0m \u001b[38;5;28;01mawait\u001b[39;00m add_nodes_and_edges_bulk(\n\u001b[1;32m    399\u001b[0m     \u001b[38;5;28mself\u001b[39m\u001b[38;5;241m.\u001b[39mdriver, [episode], episodic_edges, hydrated_nodes, entity_edges, \u001b[38;5;28mself\u001b[39m\u001b[38;5;241m.\u001b[39membedder\n\u001b[1;32m    400\u001b[0m )\n\u001b[1;32m    402\u001b[0m \u001b[38;5;66;03m# Update any communities\u001b[39;00m\n\u001b[1;32m    403\u001b[0m \u001b[38;5;28;01mif\u001b[39;00m update_communities:\n",
      "File \u001b[0;32m/opt/anaconda3/lib/python3.12/site-packages/graphiti_core/utils/bulk_utils.py:102\u001b[0m, in \u001b[0;36madd_nodes_and_edges_bulk\u001b[0;34m(driver, episodic_nodes, episodic_edges, entity_nodes, entity_edges, embedder)\u001b[0m\n\u001b[1;32m     93\u001b[0m \u001b[38;5;28;01masync\u001b[39;00m \u001b[38;5;28;01mdef\u001b[39;00m \u001b[38;5;21madd_nodes_and_edges_bulk\u001b[39m(\n\u001b[1;32m     94\u001b[0m     driver: AsyncDriver,\n\u001b[1;32m     95\u001b[0m     episodic_nodes: \u001b[38;5;28mlist\u001b[39m[EpisodicNode],\n\u001b[0;32m   (...)\u001b[0m\n\u001b[1;32m     99\u001b[0m     embedder: EmbedderClient,\n\u001b[1;32m    100\u001b[0m ):\n\u001b[1;32m    101\u001b[0m     \u001b[38;5;28;01masync\u001b[39;00m \u001b[38;5;28;01mwith\u001b[39;00m driver\u001b[38;5;241m.\u001b[39msession(database\u001b[38;5;241m=\u001b[39mDEFAULT_DATABASE) \u001b[38;5;28;01mas\u001b[39;00m session:\n\u001b[0;32m--> 102\u001b[0m         \u001b[38;5;28;01mawait\u001b[39;00m session\u001b[38;5;241m.\u001b[39mexecute_write(\n\u001b[1;32m    103\u001b[0m             add_nodes_and_edges_bulk_tx,\n\u001b[1;32m    104\u001b[0m             episodic_nodes,\n\u001b[1;32m    105\u001b[0m             episodic_edges,\n\u001b[1;32m    106\u001b[0m             entity_nodes,\n\u001b[1;32m    107\u001b[0m             entity_edges,\n\u001b[1;32m    108\u001b[0m             embedder,\n\u001b[1;32m    109\u001b[0m         )\n",
      "File \u001b[0;32m/opt/anaconda3/lib/python3.12/site-packages/neo4j/_async/work/session.py:801\u001b[0m, in \u001b[0;36mAsyncSession.execute_write\u001b[0;34m(self, transaction_function, *args, **kwargs)\u001b[0m\n\u001b[1;32m    748\u001b[0m \u001b[38;5;129m@AsyncNonConcurrentMethodChecker\u001b[39m\u001b[38;5;241m.\u001b[39m_non_concurrent_method\n\u001b[1;32m    749\u001b[0m \u001b[38;5;28;01masync\u001b[39;00m \u001b[38;5;28;01mdef\u001b[39;00m \u001b[38;5;21mexecute_write\u001b[39m(\n\u001b[1;32m    750\u001b[0m     \u001b[38;5;28mself\u001b[39m,\n\u001b[0;32m   (...)\u001b[0m\n\u001b[1;32m    755\u001b[0m     \u001b[38;5;241m*\u001b[39m\u001b[38;5;241m*\u001b[39mkwargs: _P\u001b[38;5;241m.\u001b[39mkwargs,\n\u001b[1;32m    756\u001b[0m ) \u001b[38;5;241m-\u001b[39m\u001b[38;5;241m>\u001b[39m _R:\n\u001b[1;32m    757\u001b[0m \u001b[38;5;250m    \u001b[39m\u001b[38;5;124;03m\"\"\"\u001b[39;00m\n\u001b[1;32m    758\u001b[0m \u001b[38;5;124;03m    Execute a unit of work in a managed write transaction.\u001b[39;00m\n\u001b[1;32m    759\u001b[0m \n\u001b[0;32m   (...)\u001b[0m\n\u001b[1;32m    799\u001b[0m \u001b[38;5;124;03m    .. versionadded:: 5.0\u001b[39;00m\n\u001b[1;32m    800\u001b[0m \u001b[38;5;124;03m    \"\"\"\u001b[39;00m  \u001b[38;5;66;03m# noqa: E501 example code isn't too long\u001b[39;00m\n\u001b[0;32m--> 801\u001b[0m     \u001b[38;5;28;01mreturn\u001b[39;00m \u001b[38;5;28;01mawait\u001b[39;00m \u001b[38;5;28mself\u001b[39m\u001b[38;5;241m.\u001b[39m_run_transaction(\n\u001b[1;32m    802\u001b[0m         WRITE_ACCESS,\n\u001b[1;32m    803\u001b[0m         TelemetryAPI\u001b[38;5;241m.\u001b[39mTX_FUNC,\n\u001b[1;32m    804\u001b[0m         transaction_function,\n\u001b[1;32m    805\u001b[0m         args,\n\u001b[1;32m    806\u001b[0m         kwargs,\n\u001b[1;32m    807\u001b[0m     )\n",
      "File \u001b[0;32m/opt/anaconda3/lib/python3.12/site-packages/neo4j/_async/work/session.py:581\u001b[0m, in \u001b[0;36mAsyncSession._run_transaction\u001b[0;34m(self, access_mode, api, transaction_function, args, kwargs)\u001b[0m\n\u001b[1;32m    579\u001b[0m tx \u001b[38;5;241m=\u001b[39m \u001b[38;5;28mself\u001b[39m\u001b[38;5;241m.\u001b[39m_transaction\n\u001b[1;32m    580\u001b[0m \u001b[38;5;28;01mtry\u001b[39;00m:\n\u001b[0;32m--> 581\u001b[0m     result \u001b[38;5;241m=\u001b[39m \u001b[38;5;28;01mawait\u001b[39;00m transaction_function(tx, \u001b[38;5;241m*\u001b[39margs, \u001b[38;5;241m*\u001b[39m\u001b[38;5;241m*\u001b[39mkwargs)\n\u001b[1;32m    582\u001b[0m \u001b[38;5;28;01mexcept\u001b[39;00m asyncio\u001b[38;5;241m.\u001b[39mCancelledError:\n\u001b[1;32m    583\u001b[0m     \u001b[38;5;66;03m# if cancellation callback has not been called yet:\u001b[39;00m\n\u001b[1;32m    584\u001b[0m     \u001b[38;5;28;01mif\u001b[39;00m \u001b[38;5;28mself\u001b[39m\u001b[38;5;241m.\u001b[39m_transaction \u001b[38;5;129;01mis\u001b[39;00m \u001b[38;5;129;01mnot\u001b[39;00m \u001b[38;5;28;01mNone\u001b[39;00m:\n",
      "File \u001b[0;32m/opt/anaconda3/lib/python3.12/site-packages/graphiti_core/utils/bulk_utils.py:145\u001b[0m, in \u001b[0;36madd_nodes_and_edges_bulk_tx\u001b[0;34m(tx, episodic_nodes, episodic_edges, entity_nodes, entity_edges, embedder)\u001b[0m\n\u001b[1;32m    142\u001b[0m         \u001b[38;5;28;01mawait\u001b[39;00m edge\u001b[38;5;241m.\u001b[39mgenerate_embedding(embedder)\n\u001b[1;32m    144\u001b[0m \u001b[38;5;28;01mawait\u001b[39;00m tx\u001b[38;5;241m.\u001b[39mrun(EPISODIC_NODE_SAVE_BULK, episodes\u001b[38;5;241m=\u001b[39mepisodes)\n\u001b[0;32m--> 145\u001b[0m \u001b[38;5;28;01mawait\u001b[39;00m tx\u001b[38;5;241m.\u001b[39mrun(ENTITY_NODE_SAVE_BULK, nodes\u001b[38;5;241m=\u001b[39mnodes)\n\u001b[1;32m    146\u001b[0m \u001b[38;5;28;01mawait\u001b[39;00m tx\u001b[38;5;241m.\u001b[39mrun(\n\u001b[1;32m    147\u001b[0m     EPISODIC_EDGE_SAVE_BULK, episodic_edges\u001b[38;5;241m=\u001b[39m[edge\u001b[38;5;241m.\u001b[39mmodel_dump() \u001b[38;5;28;01mfor\u001b[39;00m edge \u001b[38;5;129;01min\u001b[39;00m episodic_edges]\n\u001b[1;32m    148\u001b[0m )\n\u001b[1;32m    149\u001b[0m \u001b[38;5;28;01mawait\u001b[39;00m tx\u001b[38;5;241m.\u001b[39mrun(ENTITY_EDGE_SAVE_BULK, entity_edges\u001b[38;5;241m=\u001b[39m[edge\u001b[38;5;241m.\u001b[39mmodel_dump() \u001b[38;5;28;01mfor\u001b[39;00m edge \u001b[38;5;129;01min\u001b[39;00m entity_edges])\n",
      "File \u001b[0;32m/opt/anaconda3/lib/python3.12/site-packages/neo4j/_async/work/transaction.py:195\u001b[0m, in \u001b[0;36mAsyncTransactionBase.run\u001b[0;34m(self, query, parameters, **kwparameters)\u001b[0m\n\u001b[1;32m    192\u001b[0m \u001b[38;5;28mself\u001b[39m\u001b[38;5;241m.\u001b[39m_results\u001b[38;5;241m.\u001b[39mappend(result)\n\u001b[1;32m    194\u001b[0m parameters \u001b[38;5;241m=\u001b[39m \u001b[38;5;28mdict\u001b[39m(parameters \u001b[38;5;129;01mor\u001b[39;00m {}, \u001b[38;5;241m*\u001b[39m\u001b[38;5;241m*\u001b[39mkwparameters)\n\u001b[0;32m--> 195\u001b[0m \u001b[38;5;28;01mawait\u001b[39;00m result\u001b[38;5;241m.\u001b[39m_tx_ready_run(query, parameters)\n\u001b[1;32m    197\u001b[0m \u001b[38;5;28;01mreturn\u001b[39;00m result\n",
      "File \u001b[0;32m/opt/anaconda3/lib/python3.12/site-packages/neo4j/_async/work/result.py:175\u001b[0m, in \u001b[0;36mAsyncResult._tx_ready_run\u001b[0;34m(self, query, parameters)\u001b[0m\n\u001b[1;32m    171\u001b[0m \u001b[38;5;28;01masync\u001b[39;00m \u001b[38;5;28;01mdef\u001b[39;00m \u001b[38;5;21m_tx_ready_run\u001b[39m(\u001b[38;5;28mself\u001b[39m, query, parameters):\n\u001b[1;32m    172\u001b[0m     \u001b[38;5;66;03m# BEGIN+RUN does not carry any extra on the RUN message.\u001b[39;00m\n\u001b[1;32m    173\u001b[0m     \u001b[38;5;66;03m# BEGIN {extra}\u001b[39;00m\n\u001b[1;32m    174\u001b[0m     \u001b[38;5;66;03m# RUN \"query\" {parameters} {extra}\u001b[39;00m\n\u001b[0;32m--> 175\u001b[0m     \u001b[38;5;28;01mawait\u001b[39;00m \u001b[38;5;28mself\u001b[39m\u001b[38;5;241m.\u001b[39m_run(query, parameters, \u001b[38;5;28;01mNone\u001b[39;00m, \u001b[38;5;28;01mNone\u001b[39;00m, \u001b[38;5;28;01mNone\u001b[39;00m, \u001b[38;5;28;01mNone\u001b[39;00m, \u001b[38;5;28;01mNone\u001b[39;00m, \u001b[38;5;28;01mNone\u001b[39;00m)\n",
      "File \u001b[0;32m/opt/anaconda3/lib/python3.12/site-packages/neo4j/_async/work/result.py:231\u001b[0m, in \u001b[0;36mAsyncResult._run\u001b[0;34m(self, query, parameters, db, imp_user, access_mode, bookmarks, notifications_min_severity, notifications_disabled_classifications)\u001b[0m\n\u001b[1;32m    229\u001b[0m \u001b[38;5;28mself\u001b[39m\u001b[38;5;241m.\u001b[39m_pull()\n\u001b[1;32m    230\u001b[0m \u001b[38;5;28;01mawait\u001b[39;00m \u001b[38;5;28mself\u001b[39m\u001b[38;5;241m.\u001b[39m_connection\u001b[38;5;241m.\u001b[39msend_all()\n\u001b[0;32m--> 231\u001b[0m \u001b[38;5;28;01mawait\u001b[39;00m \u001b[38;5;28mself\u001b[39m\u001b[38;5;241m.\u001b[39m_attach()\n",
      "File \u001b[0;32m/opt/anaconda3/lib/python3.12/site-packages/neo4j/_async/work/result.py:425\u001b[0m, in \u001b[0;36mAsyncResult._attach\u001b[0;34m(self)\u001b[0m\n\u001b[1;32m    423\u001b[0m \u001b[38;5;28;01mif\u001b[39;00m \u001b[38;5;28mself\u001b[39m\u001b[38;5;241m.\u001b[39m_exhausted \u001b[38;5;129;01mis\u001b[39;00m \u001b[38;5;28;01mFalse\u001b[39;00m:\n\u001b[1;32m    424\u001b[0m     \u001b[38;5;28;01mwhile\u001b[39;00m \u001b[38;5;28mself\u001b[39m\u001b[38;5;241m.\u001b[39m_attached \u001b[38;5;129;01mis\u001b[39;00m \u001b[38;5;28;01mFalse\u001b[39;00m:\n\u001b[0;32m--> 425\u001b[0m         \u001b[38;5;28;01mawait\u001b[39;00m \u001b[38;5;28mself\u001b[39m\u001b[38;5;241m.\u001b[39m_connection\u001b[38;5;241m.\u001b[39mfetch_message()\n",
      "File \u001b[0;32m/opt/anaconda3/lib/python3.12/site-packages/neo4j/_async/io/_common.py:195\u001b[0m, in \u001b[0;36mConnectionErrorHandler.__getattr__.<locals>.outer_async.<locals>.inner\u001b[0;34m(*args, **kwargs)\u001b[0m\n\u001b[1;32m    193\u001b[0m \u001b[38;5;28;01masync\u001b[39;00m \u001b[38;5;28;01mdef\u001b[39;00m \u001b[38;5;21minner\u001b[39m(\u001b[38;5;241m*\u001b[39margs, \u001b[38;5;241m*\u001b[39m\u001b[38;5;241m*\u001b[39mkwargs):\n\u001b[1;32m    194\u001b[0m     \u001b[38;5;28;01mtry\u001b[39;00m:\n\u001b[0;32m--> 195\u001b[0m         \u001b[38;5;28;01mawait\u001b[39;00m coroutine_func(\u001b[38;5;241m*\u001b[39margs, \u001b[38;5;241m*\u001b[39m\u001b[38;5;241m*\u001b[39mkwargs)\n\u001b[1;32m    196\u001b[0m     \u001b[38;5;28;01mexcept\u001b[39;00m (\n\u001b[1;32m    197\u001b[0m         Neo4jError,\n\u001b[1;32m    198\u001b[0m         ServiceUnavailable,\n\u001b[1;32m    199\u001b[0m         SessionExpired,\n\u001b[1;32m    200\u001b[0m         asyncio\u001b[38;5;241m.\u001b[39mCancelledError,\n\u001b[1;32m    201\u001b[0m     ) \u001b[38;5;28;01mas\u001b[39;00m exc:\n\u001b[1;32m    202\u001b[0m         \u001b[38;5;28;01mawait\u001b[39;00m AsyncUtil\u001b[38;5;241m.\u001b[39mcallback(\u001b[38;5;28mself\u001b[39m\u001b[38;5;241m.\u001b[39m__on_error, exc)\n",
      "File \u001b[0;32m/opt/anaconda3/lib/python3.12/site-packages/neo4j/_async/io/_bolt.py:994\u001b[0m, in \u001b[0;36mAsyncBolt.fetch_message\u001b[0;34m(self)\u001b[0m\n\u001b[1;32m    990\u001b[0m \u001b[38;5;66;03m# Receive exactly one message\u001b[39;00m\n\u001b[1;32m    991\u001b[0m tag, fields \u001b[38;5;241m=\u001b[39m \u001b[38;5;28;01mawait\u001b[39;00m \u001b[38;5;28mself\u001b[39m\u001b[38;5;241m.\u001b[39minbox\u001b[38;5;241m.\u001b[39mpop(\n\u001b[1;32m    992\u001b[0m     hydration_hooks\u001b[38;5;241m=\u001b[39m\u001b[38;5;28mself\u001b[39m\u001b[38;5;241m.\u001b[39mresponses[\u001b[38;5;241m0\u001b[39m]\u001b[38;5;241m.\u001b[39mhydration_hooks\n\u001b[1;32m    993\u001b[0m )\n\u001b[0;32m--> 994\u001b[0m res \u001b[38;5;241m=\u001b[39m \u001b[38;5;28;01mawait\u001b[39;00m \u001b[38;5;28mself\u001b[39m\u001b[38;5;241m.\u001b[39m_process_message(tag, fields)\n\u001b[1;32m    995\u001b[0m \u001b[38;5;28mself\u001b[39m\u001b[38;5;241m.\u001b[39midle_since \u001b[38;5;241m=\u001b[39m monotonic()\n\u001b[1;32m    996\u001b[0m \u001b[38;5;28;01mreturn\u001b[39;00m res\n",
      "File \u001b[0;32m/opt/anaconda3/lib/python3.12/site-packages/neo4j/_async/io/_bolt5.py:496\u001b[0m, in \u001b[0;36mAsyncBolt5x0._process_message\u001b[0;34m(self, tag, fields)\u001b[0m\n\u001b[1;32m    494\u001b[0m \u001b[38;5;28mself\u001b[39m\u001b[38;5;241m.\u001b[39m_server_state_manager\u001b[38;5;241m.\u001b[39mstate \u001b[38;5;241m=\u001b[39m \u001b[38;5;28mself\u001b[39m\u001b[38;5;241m.\u001b[39mbolt_states\u001b[38;5;241m.\u001b[39mFAILED\n\u001b[1;32m    495\u001b[0m \u001b[38;5;28;01mtry\u001b[39;00m:\n\u001b[0;32m--> 496\u001b[0m     \u001b[38;5;28;01mawait\u001b[39;00m response\u001b[38;5;241m.\u001b[39mon_failure(summary_metadata \u001b[38;5;129;01mor\u001b[39;00m {})\n\u001b[1;32m    497\u001b[0m \u001b[38;5;28;01mexcept\u001b[39;00m (ServiceUnavailable, DatabaseUnavailable):\n\u001b[1;32m    498\u001b[0m     \u001b[38;5;28;01mif\u001b[39;00m \u001b[38;5;28mself\u001b[39m\u001b[38;5;241m.\u001b[39mpool:\n",
      "File \u001b[0;32m/opt/anaconda3/lib/python3.12/site-packages/neo4j/_async/io/_common.py:254\u001b[0m, in \u001b[0;36mResponse.on_failure\u001b[0;34m(self, metadata)\u001b[0m\n\u001b[1;32m    252\u001b[0m handler \u001b[38;5;241m=\u001b[39m \u001b[38;5;28mself\u001b[39m\u001b[38;5;241m.\u001b[39mhandlers\u001b[38;5;241m.\u001b[39mget(\u001b[38;5;124m\"\u001b[39m\u001b[38;5;124mon_summary\u001b[39m\u001b[38;5;124m\"\u001b[39m)\n\u001b[1;32m    253\u001b[0m \u001b[38;5;28;01mawait\u001b[39;00m AsyncUtil\u001b[38;5;241m.\u001b[39mcallback(handler)\n\u001b[0;32m--> 254\u001b[0m \u001b[38;5;28;01mraise\u001b[39;00m \u001b[38;5;28mself\u001b[39m\u001b[38;5;241m.\u001b[39m_hydrate_error(metadata)\n",
      "\u001b[0;31mCypherSyntaxError\u001b[0m: {code: Neo.ClientError.Statement.SyntaxError} {message: Setting labels or properties dynamically is not supported. (line 4, column 9 (offset: 74))\n\"    SET n:$(node.labels)\"\n         ^}"
     ]
    }
   ],
   "source": [
    "for i, episode in enumerate(episodes):\n",
    "    await graphiti.add_episode(\n",
    "        name=f'Freakonomics Radio {i}',\n",
    "        episode_body=episode['content']\n",
    "        if isinstance(episode['content'], str)\n",
    "        else json.dumps(episode['content']),\n",
    "        source=episode['type'],\n",
    "        source_description=episode['description'],\n",
    "        reference_time=datetime.now(timezone.utc),\n",
    "    )\n",
    "    print(f'Added episode: Freakonomics Radio {i} ({episode[\"type\"].value})')"
   ]
  },
  {
   "cell_type": "code",
   "execution_count": null,
   "metadata": {},
   "outputs": [],
   "source": [
    "# Perform a hybrid search combining semantic similarity and BM25 retrieval\n",
    "print(\"\\nSearching for: 'Who was the California Attorney General?'\")\n",
    "results = await graphiti.search('Who was the California Attorney General?')"
   ]
  },
  {
   "cell_type": "code",
   "execution_count": null,
   "metadata": {},
   "outputs": [],
   "source": [
    "# Print search results\n",
    "print('\\nSearch Results:')\n",
    "for result in results:\n",
    "    print(f'UUID: {result.uuid}')\n",
    "    print(f'Fact: {result.fact}')\n",
    "    if hasattr(result, 'valid_at') and result.valid_at:\n",
    "        print(f'Valid from: {result.valid_at}')\n",
    "    if hasattr(result, 'invalid_at') and result.invalid_at:\n",
    "        print(f'Valid until: {result.invalid_at}')\n",
    "    print('---')"
   ]
  },
  {
   "cell_type": "code",
   "execution_count": null,
   "metadata": {},
   "outputs": [],
   "source": [
    "# Use the top search result's UUID as the center node for reranking\n",
    "if results and len(results) > 0:\n",
    "    # Get the source node UUID from the top result\n",
    "    center_node_uuid = results[0].source_node_uuid\n",
    "\n",
    "    print('\\nReranking search results based on graph distance:')\n",
    "    print(f'Using center node UUID: {center_node_uuid}')\n",
    "\n",
    "    reranked_results = await graphiti.search(\n",
    "        'Who was the California Attorney General?', center_node_uuid=center_node_uuid\n",
    "    )\n",
    "\n",
    "    # Print reranked search results\n",
    "    print('\\nReranked Search Results:')\n",
    "    for result in reranked_results:\n",
    "        print(f'UUID: {result.uuid}')\n",
    "        print(f'Fact: {result.fact}')\n",
    "        if hasattr(result, 'valid_at') and result.valid_at:\n",
    "            print(f'Valid from: {result.valid_at}')\n",
    "        if hasattr(result, 'invalid_at') and result.invalid_at:\n",
    "            print(f'Valid until: {result.invalid_at}')\n",
    "        print('---')\n",
    "else:\n",
    "    print('No results found in the initial search to use as center node.')"
   ]
  },
  {
   "cell_type": "code",
   "execution_count": null,
   "metadata": {},
   "outputs": [],
   "source": [
    "# Example: Perform a node search using _search method with standard recipes\n",
    "print(\n",
    "    '\\nPerforming node search using _search method with standard recipe NODE_HYBRID_SEARCH_RRF:'\n",
    ")"
   ]
  },
  {
   "cell_type": "code",
   "execution_count": null,
   "metadata": {},
   "outputs": [],
   "source": [
    "# Use a predefined search configuration recipe and modify its limit\n",
    "node_search_config = NODE_HYBRID_SEARCH_RRF.model_copy(deep=True)\n",
    "node_search_config.limit = 5  # Limit to 5 results\n",
    "\n",
    "# Execute the node search\n",
    "node_search_results = await graphiti._search(\n",
    "    query='California Governor',\n",
    "    config=node_search_config,\n",
    ")"
   ]
  },
  {
   "cell_type": "code",
   "execution_count": null,
   "metadata": {},
   "outputs": [],
   "source": [
    "# Print node search results\n",
    "print('\\nNode Search Results:')\n",
    "for node in node_search_results.nodes:\n",
    "    print(f'Node UUID: {node.uuid}')\n",
    "    print(f'Node Name: {node.name}')\n",
    "    node_summary = node.summary[:100] + '...' if len(node.summary) > 100 else node.summary\n",
    "    print(f'Content Summary: {node_summary}')\n",
    "    print(f'Node Labels: {\", \".join(node.labels)}')\n",
    "    print(f'Created At: {node.created_at}')\n",
    "    if hasattr(node, 'attributes') and node.attributes:\n",
    "        print('Attributes:')\n",
    "        for key, value in node.attributes.items():\n",
    "            print(f'  {key}: {value}')\n",
    "    print('---')"
   ]
  },
  {
   "cell_type": "code",
   "execution_count": null,
   "metadata": {},
   "outputs": [],
   "source": []
  }
 ],
 "metadata": {
  "kernelspec": {
   "display_name": "base",
   "language": "python",
   "name": "python3"
  },
  "language_info": {
   "codemirror_mode": {
    "name": "ipython",
    "version": 3
   },
   "file_extension": ".py",
   "mimetype": "text/x-python",
   "name": "python",
   "nbconvert_exporter": "python",
   "pygments_lexer": "ipython3",
   "version": "3.12.2"
  }
 },
 "nbformat": 4,
 "nbformat_minor": 2
}
